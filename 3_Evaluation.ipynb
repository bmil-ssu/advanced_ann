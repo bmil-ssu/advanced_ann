{
  "nbformat": 4,
  "nbformat_minor": 0,
  "metadata": {
    "colab": {
      "provenance": [],
      "authorship_tag": "ABX9TyM7rsACm9BcMyAhUjTCkzRg",
      "include_colab_link": true
    },
    "kernelspec": {
      "name": "python3",
      "display_name": "Python 3"
    },
    "language_info": {
      "name": "python"
    }
  },
  "cells": [
    {
      "cell_type": "markdown",
      "metadata": {
        "id": "view-in-github",
        "colab_type": "text"
      },
      "source": [
        "<a href=\"https://colab.research.google.com/github/bmil-ssu/advanced_ann/blob/main/3_Evaluation.ipynb\" target=\"_parent\"><img src=\"https://colab.research.google.com/assets/colab-badge.svg\" alt=\"Open In Colab\"/></a>"
      ]
    },
    {
      "cell_type": "code",
      "execution_count": 12,
      "metadata": {
        "id": "KY3Y6NYdUFkI"
      },
      "outputs": [],
      "source": [
        "import torch\n",
        "from torch import nn\n",
        "from torch.utils.data import DataLoader\n",
        "from torchvision import datasets\n",
        "from torchvision.transforms import ToTensor\n",
        "\n",
        "from sklearn.model_selection import train_test_split\n",
        "\n",
        "from tqdm import tqdm\n",
        "import matplotlib.pyplot as plt\n",
        "\n",
        "import numpy as np"
      ]
    },
    {
      "cell_type": "code",
      "source": [
        "# 중요! 해당 cell 이외의 cell은 수정하지 않습니다.\n",
        "\n",
        "# 성능 평가를 위해 모델 구조를 동일하게 작성합니다.\n",
        "ENCODER_1 = 128\n",
        "ENCODER_2 = 63\n",
        "ENCODER_3 = 12\n",
        "\n",
        "LATENT_VECTOR = 3\n",
        "\n",
        "DECODER_1 = 12\n",
        "DECODER_2 = 64\n",
        "DECODER_3 = 128\n",
        "\n",
        "# AutoEncoder 모델을 정의합니다.\n",
        "class Autoencoder(nn.Module):\n",
        "    def __init__(self):\n",
        "        super().__init__()\n",
        "        self.encoder = nn.Sequential(\n",
        "            nn.Linear(input_shape,ENCODER_1),\n",
        "            nn.ReLU(),\n",
        "            nn.Linear(ENCODER_1, ENCODER_2),\n",
        "            nn.ReLU(),\n",
        "            nn.Linear(ENCODER_2, ENCODER_3),\n",
        "            nn.ReLU(),\n",
        "            nn.Linear(ENCODER_3, LATENT_VECTOR)\n",
        "        )\n",
        "\n",
        "        self.decoder = nn.Sequential(\n",
        "            nn.Linear(LATENT_VECTOR, DECODER_1),\n",
        "            nn.ReLU(),\n",
        "            nn.Linear(DECODER_1, DECODER_2),\n",
        "            nn.ReLU(),\n",
        "            nn.Linear(DECODER_2, DECODER_3),\n",
        "            nn.ReLU(),\n",
        "            nn.Linear(DECODER_3, input_shape),\n",
        "            nn.Sigmoid()\n",
        "        )\n",
        "\n",
        "    def forward(self, x):\n",
        "        encoded = self.encoder(x)\n",
        "        decoded = self.decoder(encoded)\n",
        "        return decoded"
      ],
      "metadata": {
        "id": "4vljexMxY-Ck"
      },
      "execution_count": 13,
      "outputs": []
    },
    {
      "cell_type": "code",
      "source": [
        "# 학습에 사용할 CPU나 GPU, MPS 장치를 얻습니다.\n",
        "device = (\n",
        "    \"cuda\"\n",
        "    if torch.cuda.is_available()\n",
        "    else \"mps\"\n",
        "    if torch.backends.mps.is_available()\n",
        "    else \"cpu\"\n",
        ")\n",
        "print(f\"Using {device} device\")\n",
        "\n",
        "model = Autoencoder().to(device)\n",
        "print(model)"
      ],
      "metadata": {
        "colab": {
          "base_uri": "https://localhost:8080/"
        },
        "id": "zMIoFJ69UHg9",
        "outputId": "bbc09ad3-5fba-4849-e0f2-fb734886833a"
      },
      "execution_count": 14,
      "outputs": [
        {
          "output_type": "stream",
          "name": "stdout",
          "text": [
            "Using cpu device\n",
            "Autoencoder(\n",
            "  (encoder): Sequential(\n",
            "    (0): Linear(in_features=784, out_features=128, bias=True)\n",
            "    (1): ReLU()\n",
            "    (2): Linear(in_features=128, out_features=63, bias=True)\n",
            "    (3): ReLU()\n",
            "    (4): Linear(in_features=63, out_features=12, bias=True)\n",
            "    (5): ReLU()\n",
            "    (6): Linear(in_features=12, out_features=3, bias=True)\n",
            "  )\n",
            "  (decoder): Sequential(\n",
            "    (0): Linear(in_features=3, out_features=12, bias=True)\n",
            "    (1): ReLU()\n",
            "    (2): Linear(in_features=12, out_features=64, bias=True)\n",
            "    (3): ReLU()\n",
            "    (4): Linear(in_features=64, out_features=128, bias=True)\n",
            "    (5): ReLU()\n",
            "    (6): Linear(in_features=128, out_features=784, bias=True)\n",
            "    (7): Sigmoid()\n",
            "  )\n",
            ")\n"
          ]
        }
      ]
    },
    {
      "cell_type": "code",
      "source": [
        "# 공개 데이터셋에서 테스트 데이터를 내려받습니다.\n",
        "test_data = datasets.FashionMNIST(\n",
        "    root=\"data\",\n",
        "    train=False,\n",
        "    download=True,\n",
        "    transform=ToTensor(),\n",
        ")"
      ],
      "metadata": {
        "id": "LpGEaDrfUM2r"
      },
      "execution_count": 15,
      "outputs": []
    },
    {
      "cell_type": "code",
      "source": [
        "# 데이터로더를 생성합니다.\n",
        "test_dataloader = DataLoader(test_data,batch_size=10000)"
      ],
      "metadata": {
        "id": "35LNtS9yUQPj"
      },
      "execution_count": 16,
      "outputs": []
    },
    {
      "cell_type": "code",
      "source": [
        "# 데이터의 형태를 확인합니다.\n",
        "for X, y in test_dataloader:\n",
        "    input_shape = X.shape[2] * X.shape[3]\n",
        "    print(f\"Shape of input: {input_shape}\")\n",
        "    num_class = len(y.unique())\n",
        "    print(f\"num of class: {num_class}\")\n",
        "    break"
      ],
      "metadata": {
        "colab": {
          "base_uri": "https://localhost:8080/"
        },
        "id": "pH2pw7zPV56a",
        "outputId": "145ae4b2-eca6-48a4-8b5c-a21fda9888f4"
      },
      "execution_count": 17,
      "outputs": [
        {
          "output_type": "stream",
          "name": "stdout",
          "text": [
            "Shape of input: 784\n",
            "num of class: 10\n"
          ]
        }
      ]
    },
    {
      "cell_type": "code",
      "source": [
        "# test 함수를 정의합니다.\n",
        "# 동등한 비교를 위해 모든 학생이 공통된 Loss function을 사용합니다. (학습때 사용한 function과 다를 수 있습니다.)\n",
        "def test(dataloader, model):\n",
        "    loss_fn = nn.MSELoss() # 임의로 수정하지 않습니다.\n",
        "    size = len(dataloader.dataset)\n",
        "    num_batches = len(dataloader)\n",
        "    model.eval()\n",
        "    test_loss = 0\n",
        "    with torch.no_grad():\n",
        "        for batch, (X,y) in enumerate(dataloader):\n",
        "            X = X.view(-1,28*28).to(device)\n",
        "\n",
        "            recon = model(X)\n",
        "            loss = loss_fn(recon, X)\n",
        "            test_loss += loss\n",
        "    test_loss /= num_batches\n",
        "    return test_loss"
      ],
      "metadata": {
        "id": "-hNzFw2CUXTL"
      },
      "execution_count": 18,
      "outputs": []
    },
    {
      "cell_type": "code",
      "source": [
        "# 저장된 모델을 불러오기 위해 google drive를 연동합니다.\n",
        "from google.colab import drive\n",
        "drive.mount('/content/drive')\n",
        "\n",
        "# 저장된 모델을 불러옵니다.\n",
        "PATH = '/content/drive/MyDrive/autoencoder.pt'\n",
        "model.load_state_dict(torch.load(PATH))\n",
        "model.eval()"
      ],
      "metadata": {
        "colab": {
          "base_uri": "https://localhost:8080/"
        },
        "id": "uFGrZ1mkUZt5",
        "outputId": "54986840-4e8b-4441-925c-d548c7002613"
      },
      "execution_count": 19,
      "outputs": [
        {
          "output_type": "stream",
          "name": "stdout",
          "text": [
            "Drive already mounted at /content/drive; to attempt to forcibly remount, call drive.mount(\"/content/drive\", force_remount=True).\n"
          ]
        },
        {
          "output_type": "execute_result",
          "data": {
            "text/plain": [
              "Autoencoder(\n",
              "  (encoder): Sequential(\n",
              "    (0): Linear(in_features=784, out_features=128, bias=True)\n",
              "    (1): ReLU()\n",
              "    (2): Linear(in_features=128, out_features=63, bias=True)\n",
              "    (3): ReLU()\n",
              "    (4): Linear(in_features=63, out_features=12, bias=True)\n",
              "    (5): ReLU()\n",
              "    (6): Linear(in_features=12, out_features=3, bias=True)\n",
              "  )\n",
              "  (decoder): Sequential(\n",
              "    (0): Linear(in_features=3, out_features=12, bias=True)\n",
              "    (1): ReLU()\n",
              "    (2): Linear(in_features=12, out_features=64, bias=True)\n",
              "    (3): ReLU()\n",
              "    (4): Linear(in_features=64, out_features=128, bias=True)\n",
              "    (5): ReLU()\n",
              "    (6): Linear(in_features=128, out_features=784, bias=True)\n",
              "    (7): Sigmoid()\n",
              "  )\n",
              ")"
            ]
          },
          "metadata": {},
          "execution_count": 19
        }
      ]
    },
    {
      "cell_type": "code",
      "source": [
        "# 최종 성능을 출력합니다.\n",
        "test_loss = test(test_dataloader, model)\n",
        "print(f\"Test Error: {test_loss:>8f} \\n\")"
      ],
      "metadata": {
        "colab": {
          "base_uri": "https://localhost:8080/"
        },
        "id": "-PKMNWvfU76Q",
        "outputId": "db9cfb32-3178-40ec-be81-e8024eb1ead9"
      },
      "execution_count": 20,
      "outputs": [
        {
          "output_type": "stream",
          "name": "stdout",
          "text": [
            "Test Error: 0.028948 \n",
            "\n"
          ]
        }
      ]
    }
  ]
}